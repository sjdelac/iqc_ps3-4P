{
 "cells": [
  {
   "cell_type": "code",
   "execution_count": 1,
   "id": "11e9fb32-d68f-428b-8984-40351189c9f8",
   "metadata": {},
   "outputs": [],
   "source": [
    "from selenium import webdriver\n",
    "from selenium.webdriver.common.by import By\n",
    "from datetime import datetime, timedelta\n",
    "import time\n",
    "import re"
   ]
  },
  {
   "cell_type": "code",
   "execution_count": 2,
   "id": "f96a8cf6-4642-4ef2-9534-0a2a64165386",
   "metadata": {},
   "outputs": [],
   "source": [
    "# URL and login credentials\n",
    "url = 'https://tasks.evalartapp.com/automatization'\n",
    "user = '707159'\n",
    "password = '10df2f32286b7120Mi00LTk1MTcwNw==30e0c83e6c29f1c3'"
   ]
  },
  {
   "cell_type": "code",
   "execution_count": 3,
   "id": "e086449a-8c0a-4e4a-baa0-f41ddb5293a8",
   "metadata": {},
   "outputs": [],
   "source": [
    "def login(driver, url, user, password):\n",
    "    \"\"\"\n",
    "    Performs the login process on the web page.\n",
    "\n",
    "    Args:\n",
    "        driver (WebDriver): WebDriver object to control the driver.\n",
    "        url (str): URL of the login page.\n",
    "        user (str): Username.\n",
    "        password (str): Encrypted password.\n",
    "\n",
    "    Returns:\n",
    "        driver: The WebDriver object after performing the login.\n",
    "    \"\"\"\n",
    "    try:\n",
    "        driver.get(url) # set up the webdriver\n",
    "        time.sleep(1)\n",
    "        # Login\n",
    "        user_input = driver.find_element(By.XPATH, '/html/body/div/div[2]/form/input[1]')\n",
    "        for character in user:\n",
    "            user_input.send_keys(character)\n",
    "            time.sleep(0.1)\n",
    "            \n",
    "        password_input = driver.find_element(By.XPATH, '/html/body/div/div[2]/form/input[2]')\n",
    "        for character in password:\n",
    "            password_input.send_keys(character)\n",
    "            time.sleep(0.05)\n",
    "            \n",
    "        driver.find_element(By.XPATH, '/html/body/div/div[2]/form/button').submit()\n",
    "        time.sleep(1)\n",
    "        \n",
    "        return driver\n",
    "    except:\n",
    "        # Advanced exception handling for potential login problems\n",
    "        print(f\"Error during login: {e}\")\n",
    "        raise"
   ]
  },
  {
   "cell_type": "code",
   "execution_count": 4,
   "id": "73ebcd38-fedb-4d1e-beba-a5d8dc0728a7",
   "metadata": {},
   "outputs": [],
   "source": [
    "try:\n",
    "    # Start a Chrome WebDriver instance\n",
    "    driver = webdriver.Chrome()\n",
    "    driver = login(driver=driver, url=url, user=user, password=password)\n",
    "except Exception as e:\n",
    "    print(f\"An error occurred during execution: {e}\")\n",
    "finally:\n",
    "    driver.quit()"
   ]
  },
  {
   "cell_type": "code",
   "execution_count": 5,
   "id": "c8f3ad32-723e-4646-b2dd-82b6e98f225a",
   "metadata": {},
   "outputs": [],
   "source": [
    "def check_cycle(driver):\n",
    "    \"\"\"\n",
    "    Retrieves and parses cycle information from the web page.\n",
    "\n",
    "    Args:\n",
    "        driver (WebDriver): WebDriver object to control the driver.\n",
    "\n",
    "    Returns:\n",
    "        tuple: A tuple containing the WebDriver, current cycle number, and total number of cycles.\n",
    "    \"\"\"\n",
    "    r = re.match(r'You are in cycle (\\d+) out of (\\d+)', driver.find_element(By.XPATH, '/html/body/div[2]/div/div/div/p[2]').text)\n",
    "    return driver, int(r.group(1)), int(r.group(2))"
   ]
  },
  {
   "cell_type": "code",
   "execution_count": 6,
   "id": "149faed1-1c03-4ba4-8b01-65140a91c8a5",
   "metadata": {},
   "outputs": [
    {
     "name": "stdout",
     "output_type": "stream",
     "text": [
      "You are in cycle 1 out of 10\n"
     ]
    }
   ],
   "source": [
    "try:\n",
    "    driver = webdriver.Chrome()\n",
    "    driver = login(driver=driver, url=url, user=user, password=password)\n",
    "    driver, c, t = check_cycle(driver=driver)\n",
    "    print(f'You are in cycle {c} out of {t}')\n",
    "\n",
    "except Exception as e:\n",
    "    print(f\"An error occurred during execution: {e}\")\n",
    "finally:\n",
    "    driver.quit()"
   ]
  },
  {
   "cell_type": "code",
   "execution_count": 7,
   "id": "ac654645-5e80-49e6-9282-790a79418442",
   "metadata": {},
   "outputs": [],
   "source": [
    "driver = webdriver.Chrome()\n",
    "driver = login(driver=driver, url=url, user=user, password=password)"
   ]
  },
  {
   "cell_type": "code",
   "execution_count": null,
   "id": "8cc75e5b-903e-4ba7-bad4-0e81765d674b",
   "metadata": {},
   "outputs": [],
   "source": [
    "def solve_form_1(driver):\n",
    "    \"\"\"\n",
    "    # TODO\n",
    "\n",
    "    Args:\n",
    "        driver (WebDriver): WebDriver object to control the driver.\n",
    "\n",
    "    Returns:\n",
    "        WebDriver: The WebDriver object after solving the form.\n",
    "    \"\"\"\n",
    "    expression = driver.find_element(By.XPATH, '/html/body/div[2]/form/div[1]/div[1]/p[2]').text\n",
    "    result = eval(expression)\n",
    "    driver.find_element(By.XPATH, '/html/body/div[2]/form/div[1]/div[1]/select').send_keys(result)\n",
    "    \n",
    "    return driver"
   ]
  }
 ],
 "metadata": {
  "kernelspec": {
   "display_name": "Python 3 (ipykernel)",
   "language": "python",
   "name": "python3"
  },
  "language_info": {
   "codemirror_mode": {
    "name": "ipython",
    "version": 3
   },
   "file_extension": ".py",
   "mimetype": "text/x-python",
   "name": "python",
   "nbconvert_exporter": "python",
   "pygments_lexer": "ipython3",
   "version": "3.10.11"
  },
  "widgets": {
   "application/vnd.jupyter.widget-state+json": {
    "state": {},
    "version_major": 2,
    "version_minor": 0
   }
  }
 },
 "nbformat": 4,
 "nbformat_minor": 5
}
